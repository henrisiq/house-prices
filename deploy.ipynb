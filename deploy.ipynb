{
 "cells": [
  {
   "cell_type": "code",
   "execution_count": 1,
   "id": "a879e27e",
   "metadata": {
    "scrolled": true
   },
   "outputs": [
    {
     "name": "stderr",
     "output_type": "stream",
     "text": [
      "2023-10-17 10:10:30.904 \n",
      "  \u001b[33m\u001b[1mWarning:\u001b[0m to view this Streamlit app on a browser, run it with the following\n",
      "  command:\n",
      "\n",
      "    streamlit run C:\\Users\\Henrique\\anaconda3\\lib\\site-packages\\ipykernel_launcher.py [ARGUMENTS]\n"
     ]
    }
   ],
   "source": [
    "import pandas as pd\n",
    "import streamlit as st\n",
    "import joblib\n",
    "\n",
    "x_number = {'LotFrontage': 0, 'LotArea': 0, 'YearBuilt': 0, 'BsmtFinSF1': 0, 'BsmtUnfSF': 0,\n",
    "       'TotalBsmtSF': 0, 'BedroomAbvGr': 0, 'KitchenAbvGr': 0, 'TotRmsAbvGrd': 0,\n",
    "       'Fireplaces': 0, 'GarageArea': 0, 'OpenPorchSF': 0, 'EnclosedPorch': 0, 'MoSold': 0,\n",
    "       'YrSold': 0, 'Bathrooms': 0, 'HalfBaths': 0}\n",
    "\n",
    "x_list = {'LotConfig':['Inside', 'Corner', 'CulDSac', 'FR2', 'FR3'], \n",
    "          'Neighborhood':['NAmes', 'CollgCr', 'OldTown', 'Somerst', 'Gilbert', 'Edwards',\n",
    "                          'NWAmes', 'Sawyer', 'SawyerW', 'BrkSide', 'Crawfor', 'NridgHt',\n",
    "                          'Mitchel', 'Timber', 'IDOTRR', 'NoRidge', 'SWISU', 'Blmngtn', 'BrDale',\n",
    "                          'StoneBr', 'MeadowV', 'ClearCr', 'Veenker', 'NPkVill', 'Blueste'], \n",
    "          'BldgType':['1Fam', 'Townhouse', '2fmCon', 'Duplex'], \n",
    "          'HouseStyle':['Townhouse', '1Fam', '2fmCon'], \n",
    "          'Exterior1st':['diverse_siding', 'wood_style_siding', 'rock_style_siding'],\n",
    "          'BsmtQual':['TA', 'Gd', 'Ex', 'Fa'], \n",
    "          'CentralAir':['Y', 'N'], \n",
    "          'GarageType':['Attchd', 'Detchd', 'BuiltIn', 'Basment', 'CarPort', '2Types'], \n",
    "          'GarageFinish':['Unf', 'RFn', 'Fin'],\n",
    "          'GarageQual':['TA', 'Fa', 'Gd', 'Po', 'Ex'], \n",
    "          'PavedDrive':['Y', 'N', 'P'], \n",
    "          'SaleCondition':['Normal', 'Abnorml', 'Partial', 'Family', 'Alloca', 'AdjLand'], \n",
    "          'Category':['one_story', 'two_story', 'others'], \n",
    "          'MS_Zoning':['residential', 'industrial'],\n",
    "          'Lot_shape':['regular', 'irregular']}\n",
    "\n",
    "dictionary = {}\n",
    "for item in x_list:\n",
    "    for value in x_list[item]:\n",
    "        dictionary[f'{item}_{value}'] = 0\n",
    "\n",
    "\n",
    "for item in x_number:\n",
    "    if item == 'LotFrontage':\n",
    "        value = st.number_input(f'{item}', step=0.01, value=0.0, format=\"%.2f\")\n",
    "    else:\n",
    "        value = st.number_input(f'{item}', step=1, value=0)\n",
    "    x_number[item] = value \n",
    "    \n",
    "for item in x_list:\n",
    "    value = st.selectbox(f'{item}', x_list[item])\n",
    "    dictionary[f'{item}_{value}'] = 1\n",
    "    \n",
    "button = st.button('Predict property value')\n",
    "\n",
    "if button:\n",
    "    dictionary.update(x_number)\n",
    "    x_values = pd.DataFrame(dictionary, index=[0])\n",
    "    model = joblib.load('model_elastic.joblib')\n",
    "    price = model.predict(x_values)\n",
    "    st.write(f'This property has the suggested price of: {price[0]:,.2f}')\n"
   ]
  }
 ],
 "metadata": {
  "kernelspec": {
   "display_name": "Python 3 (ipykernel)",
   "language": "python",
   "name": "python3"
  },
  "language_info": {
   "codemirror_mode": {
    "name": "ipython",
    "version": 3
   },
   "file_extension": ".py",
   "mimetype": "text/x-python",
   "name": "python",
   "nbconvert_exporter": "python",
   "pygments_lexer": "ipython3",
   "version": "3.9.12"
  }
 },
 "nbformat": 4,
 "nbformat_minor": 5
}
